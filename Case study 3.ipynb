{
 "cells": [
  {
   "cell_type": "markdown",
   "metadata": {},
   "source": [
    "## Case study 3"
   ]
  },
  {
   "cell_type": "code",
   "execution_count": 29,
   "metadata": {},
   "outputs": [],
   "source": [
    "import statsmodels.formula.api as smf\n",
    "import numpy as np\n",
    "import pandas as pd\n",
    "from statsmodels.graphics.regressionplots import abline_plot"
   ]
  },
  {
   "cell_type": "code",
   "execution_count": 20,
   "metadata": {},
   "outputs": [],
   "source": [
    "# right shoe sizes from 3 to 10\n",
    "RSS = range(3, 11)\n",
    "\n",
    "# left shoe sizes from 3 to 10 +\n",
    "# normally distributed deviates with sd = 0.1 \n",
    "LSS = [3.09,3.95,4.95,6.22,6.82,8.11,8.99,9.95]\n",
    "\n",
    "# 120 + RSS value + normally distributed deviates with sd=10\n",
    "weights = [154,148.2,162.3,179.3,201,206.6,200.75,223.6]\n",
    "\n",
    "df = pd.DataFrame({'RSS': RSS,\n",
    "                   'LSS': LSS,\n",
    "                   'weights': weights })"
   ]
  },
  {
   "cell_type": "code",
   "execution_count": 43,
   "metadata": {},
   "outputs": [
    {
     "data": {
      "text/plain": [
       "[3, 10, 150, 225]"
      ]
     },
     "execution_count": 43,
     "metadata": {},
     "output_type": "execute_result"
    },
    {
     "data": {
      "image/png": "[encoded data removed]",
      "text/plain": [
       "<matplotlib.figure.Figure at 0x1c19202290>"
      ]
     },
     "metadata": {},
     "output_type": "display_data"
    }
   ],
   "source": [
    "%matplotlib inline\n",
    "import matplotlib.pyplot as plt\n",
    "\n",
    "plt.plot(LSS, weights, 'ro')\n",
    "plt.axis([3, 10, 150, 225])"
   ]
  },
  {
   "cell_type": "code",
   "execution_count": 24,
   "metadata": {},
   "outputs": [],
   "source": [
    "m = smf.ols(formula='weights ~ LSS + RSS', data=df).fit()"
   ]
  },
  {
   "cell_type": "code",
   "execution_count": 26,
   "metadata": {},
   "outputs": [
    {
     "name": "stdout",
     "output_type": "stream",
     "text": [
      "                            OLS Regression Results                            \n",
      "==============================================================================\n",
      "Dep. Variable:                weights   R-squared:                       0.915\n",
      "Model:                            OLS   Adj. R-squared:                  0.881\n",
      "Method:                 Least Squares   F-statistic:                     27.01\n",
      "Date:                Tue, 26 Jun 2018   Prob (F-statistic):            0.00209\n",
      "Time:                        09:02:17   Log-Likelihood:                -27.478\n",
      "No. Observations:                   8   AIC:                             60.96\n",
      "Df Residuals:                       5   BIC:                             61.19\n",
      "Df Model:                           2                                         \n",
      "Covariance Type:            nonrobust                                         \n",
      "==============================================================================\n",
      "                 coef    std err          t      P>|t|      [0.025      0.975]\n",
      "------------------------------------------------------------------------------\n",
      "Intercept    114.3815     10.272     11.135      0.000      87.977     140.786\n",
      "LSS            1.4393     29.320      0.049      0.963     -73.931      76.809\n",
      "RSS            9.3411     29.113      0.321      0.761     -65.495      84.178\n",
      "==============================================================================\n",
      "Omnibus:                        1.113   Durbin-Watson:                   1.985\n",
      "Prob(Omnibus):                  0.573   Jarque-Bera (JB):                0.606\n",
      "Skew:                          -0.043   Prob(JB):                        0.739\n",
      "Kurtosis:                       1.655   Cond. No.                         121.\n",
      "==============================================================================\n",
      "\n",
      "Warnings:\n",
      "[1] Standard Errors assume that the covariance matrix of the errors is correctly specified.\n"
     ]
    },
    {
     "name": "stderr",
     "output_type": "stream",
     "text": [
      "/Users/spetulla/anaconda2/lib/python2.7/site-packages/scipy/stats/stats.py:1334: UserWarning: kurtosistest only valid for n>=20 ... continuing anyway, n=8\n",
      "  \"anyway, n=%i\" % int(n))\n"
     ]
    }
   ],
   "source": [
    "print(m.summary())"
   ]
  },
  {
   "cell_type": "code",
   "execution_count": null,
   "metadata": {
    "collapsed": true
   },
   "outputs": [],
   "source": [
    "ax = df.plot(x='RSS', y='weights', kind='scatter')\n",
    "\n",
    "# plot regression line\n",
    "abline_plot(model_results=m, ax=ax)"
   ]
  },
  {
   "cell_type": "code",
   "execution_count": 27,
   "metadata": {
    "collapsed": true
   },
   "outputs": [],
   "source": [
    "m = smf.ols(formula='weights ~ LSS', data=df).fit()"
   ]
  },
  {
   "cell_type": "code",
   "execution_count": 28,
   "metadata": {},
   "outputs": [
    {
     "name": "stdout",
     "output_type": "stream",
     "text": [
      "                            OLS Regression Results                            \n",
      "==============================================================================\n",
      "Dep. Variable:                weights   R-squared:                       0.914\n",
      "Model:                            OLS   Adj. R-squared:                  0.899\n",
      "Method:                 Least Squares   F-statistic:                     63.39\n",
      "Date:                Tue, 26 Jun 2018   Prob (F-statistic):           0.000209\n",
      "Time:                        09:03:50   Log-Likelihood:                -27.560\n",
      "No. Observations:                   8   AIC:                             59.12\n",
      "Df Residuals:                       6   BIC:                             59.28\n",
      "Df Model:                           1                                         \n",
      "Covariance Type:            nonrobust                                         \n",
      "==============================================================================\n",
      "                 coef    std err          t      P>|t|      [0.025      0.975]\n",
      "------------------------------------------------------------------------------\n",
      "Intercept    113.9324      9.385     12.140      0.000      90.969     136.896\n",
      "LSS           10.8351      1.361      7.962      0.000       7.505      14.165\n",
      "==============================================================================\n",
      "Omnibus:                        0.360   Durbin-Watson:                   2.049\n",
      "Prob(Omnibus):                  0.835   Jarque-Bera (JB):                0.436\n",
      "Skew:                           0.208   Prob(JB):                        0.804\n",
      "Kurtosis:                       1.934   Cond. No.                         21.3\n",
      "==============================================================================\n",
      "\n",
      "Warnings:\n",
      "[1] Standard Errors assume that the covariance matrix of the errors is correctly specified.\n"
     ]
    }
   ],
   "source": [
    "print(m.summary())"
   ]
  },
  {
   "cell_type": "code",
   "execution_count": 31,
   "metadata": {},
   "outputs": [
    {
     "data": {
      "image/png": "[encoded data removed]",
      "text/plain": [
       "<matplotlib.figure.Figure at 0x1c185f1090>"
      ]
     },
     "execution_count": 31,
     "metadata": {},
     "output_type": "execute_result"
    }
   ],
   "source": [
    "ax = df.plot(x='RSS', y='weights', kind='scatter')\n",
    "\n",
    "# plot regression line\n",
    "abline_plot(model_results=m, ax=ax)"
   ]
  },
  {
   "cell_type": "code",
   "execution_count": null,
   "metadata": {
    "collapsed": true
   },
   "outputs": [],
   "source": [
    "# Collinearity\n",
    "# R code\n",
    "\n",
    "RSS = 3:10 #Right shoe size\n",
    "LSS = rnorm(RSS, RSS, 0.1) #Left shoe size - similar to RSS\n",
    "cor(LSS, RSS) #correlation ~ 0.99\n",
    "\n",
    "weights = 120 + rnorm(RSS, 10*RSS, 10)\n",
    "\n",
    "##Fit a joint model\n",
    "m = lm(weights ~ LSS + RSS)\n",
    "\n",
    "\n",
    "##F-value is very small, but neither LSS or RSS are significant\n",
    "summary(m)\n",
    "\n",
    "##Fitting RSS or LSS separately gives a significant result. \n",
    "summary(lm(weights ~ LSS))"
   ]
  }
 ],
 "metadata": {
  "kernelspec": {
   "display_name": "Python 2",
   "language": "python",
   "name": "python2"
  },
  "language_info": {
   "codemirror_mode": {
    "name": "ipython",
    "version": 2
   },
   "file_extension": ".py",
   "mimetype": "text/x-python",
   "name": "python",
   "nbconvert_exporter": "python",
   "pygments_lexer": "ipython2",
   "version": "2.7.10"
  }
 },
 "nbformat": 4,
 "nbformat_minor": 2
}
