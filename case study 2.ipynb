{
 "cells": [
  {
   "cell_type": "markdown",
   "metadata": {},
   "source": [
    "## Case study 2 -- Collinearity"
   ]
  },
  {
   "cell_type": "code",
   "execution_count": 29,
   "metadata": {
    "collapsed": true
   },
   "outputs": [],
   "source": [
    "import statsmodels.formula.api as smf\n",
    "import numpy as np\n",
    "import pandas as pd\n",
    "from statsmodels.graphics.regressionplots import abline_plot"
   ]
  },
  {
   "cell_type": "code",
   "execution_count": 51,
   "metadata": {},
   "outputs": [],
   "source": [
    "# right shoe sizes from 3 to 10\n",
    "#RSS = range(3, 11)\n",
    "\n",
    "# left shoe sizes from 3 to 10 +\n",
    "# normally distributed deviates with sd = 0.1 \n",
    "#LSS = [3.09,3.95,4.95,6.22,6.82,8.11,8.99,9.95]\n",
    "\n",
    "# 120 + RSS value + normally distributed deviates with sd=10\n",
    "#weights = [154,148.2,162.3,179.3,201,206.6,200.75,223.6]\n",
    "\n",
    "df = pd.read_csv('data/shoestest.csv')"
   ]
  },
  {
   "cell_type": "code",
   "execution_count": 60,
   "metadata": {},
   "outputs": [
    {
     "data": {
      "text/html": [
       "<div>\n",
       "<style>\n",
       "    .dataframe thead tr:only-child th {\n",
       "        text-align: right;\n",
       "    }\n",
       "\n",
       "    .dataframe thead th {\n",
       "        text-align: left;\n",
       "    }\n",
       "\n",
       "    .dataframe tbody tr th {\n",
       "        vertical-align: top;\n",
       "    }\n",
       "</style>\n",
       "<table border=\"1\" class=\"dataframe\">\n",
       "  <thead>\n",
       "    <tr style=\"text-align: right;\">\n",
       "      <th></th>\n",
       "      <th>LSS</th>\n",
       "      <th>RSS</th>\n",
       "      <th>weights</th>\n",
       "    </tr>\n",
       "  </thead>\n",
       "  <tbody>\n",
       "    <tr>\n",
       "      <th>0</th>\n",
       "      <td>3.09</td>\n",
       "      <td>3</td>\n",
       "      <td>154.00</td>\n",
       "    </tr>\n",
       "    <tr>\n",
       "      <th>1</th>\n",
       "      <td>3.95</td>\n",
       "      <td>4</td>\n",
       "      <td>148.20</td>\n",
       "    </tr>\n",
       "    <tr>\n",
       "      <th>2</th>\n",
       "      <td>4.95</td>\n",
       "      <td>5</td>\n",
       "      <td>162.30</td>\n",
       "    </tr>\n",
       "    <tr>\n",
       "      <th>3</th>\n",
       "      <td>6.22</td>\n",
       "      <td>6</td>\n",
       "      <td>179.30</td>\n",
       "    </tr>\n",
       "    <tr>\n",
       "      <th>4</th>\n",
       "      <td>6.82</td>\n",
       "      <td>7</td>\n",
       "      <td>201.00</td>\n",
       "    </tr>\n",
       "    <tr>\n",
       "      <th>5</th>\n",
       "      <td>8.11</td>\n",
       "      <td>8</td>\n",
       "      <td>206.60</td>\n",
       "    </tr>\n",
       "    <tr>\n",
       "      <th>6</th>\n",
       "      <td>8.99</td>\n",
       "      <td>9</td>\n",
       "      <td>200.75</td>\n",
       "    </tr>\n",
       "    <tr>\n",
       "      <th>7</th>\n",
       "      <td>9.95</td>\n",
       "      <td>10</td>\n",
       "      <td>223.60</td>\n",
       "    </tr>\n",
       "  </tbody>\n",
       "</table>\n",
       "</div>"
      ],
      "text/plain": [
       "    LSS  RSS  weights\n",
       "0  3.09    3   154.00\n",
       "1  3.95    4   148.20\n",
       "2  4.95    5   162.30\n",
       "3  6.22    6   179.30\n",
       "4  6.82    7   201.00\n",
       "5  8.11    8   206.60\n",
       "6  8.99    9   200.75\n",
       "7  9.95   10   223.60"
      ]
     },
     "execution_count": 60,
     "metadata": {},
     "output_type": "execute_result"
    }
   ],
   "source": [
    "df.head(10)"
   ]
  },
  {
   "cell_type": "code",
   "execution_count": 52,
   "metadata": {},
   "outputs": [
    {
     "data": {
      "text/plain": [
       "[3, 10, 150, 225]"
      ]
     },
     "execution_count": 52,
     "metadata": {},
     "output_type": "execute_result"
    },
    {
     "data": {
      "image/png": "[encoded data removed]",
      "text/plain": [
       "<matplotlib.figure.Figure at 0x1c18902050>"
      ]
     },
     "metadata": {},
     "output_type": "display_data"
    }
   ],
   "source": [
    "%matplotlib inline\n",
    "import matplotlib.pyplot as plt\n",
    "\n",
    "width = 8\n",
    "height = 8\n",
    "plt.figure(figsize=(width, height))\n",
    "\n",
    "plt.plot(LSS, weights, 'ro')\n",
    "\n",
    "plt.xlabel('LSS', fontsize=16)\n",
    "plt.ylabel('weights', fontsize=16)\n",
    "\n",
    "plt.axis([3, 10, 150, 225])"
   ]
  },
  {
   "cell_type": "code",
   "execution_count": 61,
   "metadata": {
    "collapsed": true
   },
   "outputs": [],
   "source": [
    "m = smf.ols(formula='weights ~ LSS + RSS', data=df).fit()"
   ]
  },
  {
   "cell_type": "code",
   "execution_count": 62,
   "metadata": {},
   "outputs": [
    {
     "name": "stdout",
     "output_type": "stream",
     "text": [
      "                            OLS Regression Results                            \n",
      "==============================================================================\n",
      "Dep. Variable:                weights   R-squared:                       0.915\n",
      "Model:                            OLS   Adj. R-squared:                  0.881\n",
      "Method:                 Least Squares   F-statistic:                     27.01\n",
      "Date:                Thu, 28 Jun 2018   Prob (F-statistic):            0.00209\n",
      "Time:                        09:50:15   Log-Likelihood:                -27.478\n",
      "No. Observations:                   8   AIC:                             60.96\n",
      "Df Residuals:                       5   BIC:                             61.19\n",
      "Df Model:                           2                                         \n",
      "Covariance Type:            nonrobust                                         \n",
      "==============================================================================\n",
      "                 coef    std err          t      P>|t|      [0.025      0.975]\n",
      "------------------------------------------------------------------------------\n",
      "Intercept    114.3815     10.272     11.135      0.000      87.977     140.786\n",
      "LSS            1.4393     29.320      0.049      0.963     -73.931      76.809\n",
      "RSS            9.3411     29.113      0.321      0.761     -65.495      84.178\n",
      "==============================================================================\n",
      "Omnibus:                        1.113   Durbin-Watson:                   1.985\n",
      "Prob(Omnibus):                  0.573   Jarque-Bera (JB):                0.606\n",
      "Skew:                          -0.043   Prob(JB):                        0.739\n",
      "Kurtosis:                       1.655   Cond. No.                         121.\n",
      "==============================================================================\n",
      "\n",
      "Warnings:\n",
      "[1] Standard Errors assume that the covariance matrix of the errors is correctly specified.\n"
     ]
    }
   ],
   "source": [
    "print(m.summary())"
   ]
  },
  {
   "cell_type": "code",
   "execution_count": 57,
   "metadata": {
    "collapsed": true
   },
   "outputs": [],
   "source": [
    "m = smf.ols(formula='weights ~ LSS', data=df).fit()"
   ]
  },
  {
   "cell_type": "code",
   "execution_count": 58,
   "metadata": {},
   "outputs": [
    {
     "name": "stdout",
     "output_type": "stream",
     "text": [
      "                            OLS Regression Results                            \n",
      "==============================================================================\n",
      "Dep. Variable:                weights   R-squared:                       0.914\n",
      "Model:                            OLS   Adj. R-squared:                  0.899\n",
      "Method:                 Least Squares   F-statistic:                     63.39\n",
      "Date:                Thu, 28 Jun 2018   Prob (F-statistic):           0.000209\n",
      "Time:                        09:48:11   Log-Likelihood:                -27.560\n",
      "No. Observations:                   8   AIC:                             59.12\n",
      "Df Residuals:                       6   BIC:                             59.28\n",
      "Df Model:                           1                                         \n",
      "Covariance Type:            nonrobust                                         \n",
      "==============================================================================\n",
      "                 coef    std err          t      P>|t|      [0.025      0.975]\n",
      "------------------------------------------------------------------------------\n",
      "Intercept    113.9324      9.385     12.140      0.000      90.969     136.896\n",
      "LSS           10.8351      1.361      7.962      0.000       7.505      14.165\n",
      "==============================================================================\n",
      "Omnibus:                        0.360   Durbin-Watson:                   2.049\n",
      "Prob(Omnibus):                  0.835   Jarque-Bera (JB):                0.436\n",
      "Skew:                           0.208   Prob(JB):                        0.804\n",
      "Kurtosis:                       1.934   Cond. No.                         21.3\n",
      "==============================================================================\n",
      "\n",
      "Warnings:\n",
      "[1] Standard Errors assume that the covariance matrix of the errors is correctly specified.\n"
     ]
    }
   ],
   "source": [
    "print(m.summary())"
   ]
  },
  {
   "cell_type": "code",
   "execution_count": 59,
   "metadata": {},
   "outputs": [
    {
     "data": {
      "image/png": "[encoded data removed]",
      "text/plain": [
       "<matplotlib.figure.Figure at 0x1c186b1490>"
      ]
     },
     "execution_count": 59,
     "metadata": {},
     "output_type": "execute_result"
    },
    {
     "data": {
      "image/png": "[encoded data removed]",
      "text/plain": [
       "<matplotlib.figure.Figure at 0x1c186b1490>"
      ]
     },
     "metadata": {},
     "output_type": "display_data"
    }
   ],
   "source": [
    "ax = df.plot(x='RSS', y='weights', kind='scatter')\n",
    "\n",
    "# plot regression line\n",
    "abline_plot(model_results=m, ax=ax)"
   ]
  },
  {
   "cell_type": "code",
   "execution_count": null,
   "metadata": {
    "collapsed": true
   },
   "outputs": [],
   "source": [
    "# Collinearity\n",
    "# R code\n",
    "\n",
    "RSS = 3:10 #Right shoe size\n",
    "LSS = rnorm(RSS, RSS, 0.1) #Left shoe size - similar to RSS\n",
    "cor(LSS, RSS) #correlation ~ 0.99\n",
    "\n",
    "weights = 120 + rnorm(RSS, 10*RSS, 10)\n",
    "\n",
    "##Fit a joint model\n",
    "m = lm(weights ~ LSS + RSS)\n",
    "\n",
    "\n",
    "##F-value is very small, but neither LSS or RSS are significant\n",
    "summary(m)\n",
    "\n",
    "##Fitting RSS or LSS separately gives a significant result. \n",
    "summary(lm(weights ~ LSS))"
   ]
  }
 ],
 "metadata": {
  "kernelspec": {
   "display_name": "Python 2",
   "language": "python",
   "name": "python2"
  },
  "language_info": {
   "codemirror_mode": {
    "name": "ipython",
    "version": 2
   },
   "file_extension": ".py",
   "mimetype": "text/x-python",
   "name": "python",
   "nbconvert_exporter": "python",
   "pygments_lexer": "ipython2",
   "version": "2.7.14"
  }
 },
 "nbformat": 4,
 "nbformat_minor": 2
}
